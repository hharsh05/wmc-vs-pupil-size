{
 "cells": [
  {
   "cell_type": "code",
   "execution_count": 78,
   "id": "a2c187f9",
   "metadata": {
    "scrolled": true
   },
   "outputs": [
    {
     "name": "stdout",
     "output_type": "stream",
     "text": [
      "this is checking 47.5\n",
      "Detected\n",
      "this is checking 30.5\n",
      "Detected\n",
      "11576.5\n",
      "10.11981477582257\n"
     ]
    }
   ],
   "source": [
    "import math\n",
    "\n",
    "import cv2\n",
    "import numpy as np\n",
    "\n",
    "img = cv2.imread('C:/Users/asus/Desktop/photos/18bev7002.jpg')\n",
    "scaling_factor = 0.7\n",
    "\n",
    "img = cv2.resize(img, None, fx=scaling_factor, fy=scaling_factor, interpolation=cv2.INTER_AREA)\n",
    "cv2.imshow('Input', img)\n",
    "gray = cv2.cvtColor(~img, cv2.COLOR_BGR2GRAY)\n",
    "cv2.imshow('Input1', gray)\n",
    "ret, thresh_gray = cv2.threshold(gray, 200, 255, cv2.THRESH_BINARY)\n",
    "contours, hierarchy = cv2.findContours(thresh_gray, cv2.RETR_EXTERNAL, cv2.CHAIN_APPROX_NONE)\n",
    "\n",
    "for contour in contours:\n",
    "    area = cv2.contourArea(contour)\n",
    "    rect = cv2.boundingRect(contour)\n",
    "    x, y, width, height = rect\n",
    "    radius = 0.25 * (width + height)\n",
    "\n",
    "    area_condition = (29< area <= 30.5 or 45< area <=50)\n",
    "    #print(area_condition)\n",
    "    if(area_condition==True):\n",
    "        print(\"this is checking\",area)\n",
    "    else:\n",
    "        continue\n",
    "    symmetry_condition = (abs(1 - float(width)/float(height)) <=30000)\n",
    "    fill_condition = (abs(1 - (area / (math.pi * math.pow(radius, 2.0)))) <= 40000)\n",
    "\n",
    "    if area_condition and symmetry_condition and fill_condition:\n",
    "        print(\"Detected\")\n",
    "        cv2.circle(img, (int(x + radius), int(y + radius)), int(1.3*radius), (0,180,0), -1)\n",
    "    \n",
    "print(area)\n",
    "a=area/3.14\n",
    "p= math. sqrt(a)\n",
    "print(p/6)\n",
    "cv2.imshow('Pupil Detector', img)\n",
    "c = cv2.waitKey()\n",
    "cv2.destroyAllWindows()"
   ]
  },
  {
   "cell_type": "code",
   "execution_count": null,
   "id": "cc8aa760",
   "metadata": {},
   "outputs": [],
   "source": []
  },
  {
   "cell_type": "code",
   "execution_count": null,
   "id": "50f52f6c",
   "metadata": {},
   "outputs": [],
   "source": []
  },
  {
   "cell_type": "code",
   "execution_count": null,
   "id": "9433330c",
   "metadata": {},
   "outputs": [],
   "source": []
  },
  {
   "cell_type": "code",
   "execution_count": null,
   "id": "7bd4351a",
   "metadata": {},
   "outputs": [],
   "source": []
  },
  {
   "cell_type": "code",
   "execution_count": null,
   "id": "578f1256",
   "metadata": {},
   "outputs": [],
   "source": []
  },
  {
   "cell_type": "code",
   "execution_count": null,
   "id": "17f669bc",
   "metadata": {},
   "outputs": [],
   "source": []
  },
  {
   "cell_type": "code",
   "execution_count": null,
   "id": "d469749b",
   "metadata": {},
   "outputs": [],
   "source": []
  }
 ],
 "metadata": {
  "kernelspec": {
   "display_name": "Python 3 (ipykernel)",
   "language": "python",
   "name": "python3"
  },
  "language_info": {
   "codemirror_mode": {
    "name": "ipython",
    "version": 3
   },
   "file_extension": ".py",
   "mimetype": "text/x-python",
   "name": "python",
   "nbconvert_exporter": "python",
   "pygments_lexer": "ipython3",
   "version": "3.9.7"
  }
 },
 "nbformat": 4,
 "nbformat_minor": 5
}
