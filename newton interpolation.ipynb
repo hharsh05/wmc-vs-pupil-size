{
 "cells": [
  {
   "cell_type": "code",
   "execution_count": null,
   "id": "d5073c37",
   "metadata": {},
   "outputs": [],
   "source": [
    "def u_cal(u, n):\n",
    " \n",
    "    temp = u;\n",
    "    for i in range(1, n):\n",
    "        temp = temp * (u - i);\n",
    "    return temp;\n",
    " \n",
    "# calculating factorial of given number n\n",
    "def fact(n):\n",
    "    f = 1;\n",
    "    for i in range(2, n + 1):\n",
    "        f *= i;\n",
    "    return f;\n",
    " \n",
    "# Driver Code\n",
    " \n",
    "# Number of values given\n",
    "n = 4;\n",
    "x = [ 45, 50, 55, 60 ];\n",
    "     \n",
    "# y[][] is used for difference table\n",
    "# with y[][0] used for input\n",
    "y = [[0 for i in range(n)]\n",
    "        for j in range(n)];\n",
    "y[0][0] = 0.7071;\n",
    "y[1][0] = 0.7660;\n",
    "y[2][0] = 0.8192;\n",
    "y[3][0] = 0.8660;\n",
    " \n",
    "# Calculating the forward difference\n",
    "# table\n",
    "for i in range(1, n):\n",
    "    for j in range(n - i):\n",
    "        y[j][i] = y[j + 1][i - 1] - y[j][i - 1];\n",
    " \n",
    "# Displaying the forward difference table\n",
    "for i in range(n):\n",
    "    print(x[i], end = \"\\t\");\n",
    "    for j in range(n - i):\n",
    "        print(y[i][j], end = \"\\t\");\n",
    "    print(\"\");\n",
    " \n",
    "# Value to interpolate at\n",
    "value = 52;\n",
    " \n",
    "# initializing u and sum\n",
    "sum = y[0][0];\n",
    "u = (value - x[0]) / (x[1] - x[0]);\n",
    "for i in range(1,n):\n",
    "    sum = sum + (u_cal(u, i) * y[0][i]) / fact(i);\n",
    " \n",
    "print(\"\\nValue at\", value,\n",
    "      \"is\", round(sum, 6));\n",
    " \n",
    "# This code is contributed by mits"
   ]
  }
 ],
 "metadata": {
  "kernelspec": {
   "display_name": "Python 3 (ipykernel)",
   "language": "python",
   "name": "python3"
  },
  "language_info": {
   "codemirror_mode": {
    "name": "ipython",
    "version": 3
   },
   "file_extension": ".py",
   "mimetype": "text/x-python",
   "name": "python",
   "nbconvert_exporter": "python",
   "pygments_lexer": "ipython3",
   "version": "3.9.7"
  }
 },
 "nbformat": 4,
 "nbformat_minor": 5
}
